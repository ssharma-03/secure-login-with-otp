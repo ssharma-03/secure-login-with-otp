{
 "cells": [
  {
   "cell_type": "code",
   "execution_count": 2,
   "metadata": {},
   "outputs": [],
   "source": [
    "# OTP GENERATER"
   ]
  },
  {
   "cell_type": "code",
   "execution_count": 4,
   "metadata": {},
   "outputs": [
    {
     "name": "stdout",
     "output_type": "stream",
     "text": [
      "***** LOGIN PAGE *****\n",
      "otp sent successfully\n",
      "Login Failed !!!\n",
      "You have 2  More Attempts Plese try Again\n",
      "Login Failed !!!\n",
      "You have 1  More Attempts Plese try Again\n",
      "LogIn Successfull mahesh\n"
     ]
    }
   ],
   "source": [
    "def otp_generation():\n",
    "    import random as re\n",
    "    otp = re.randint(1000,9999)\n",
    "    return otp\n",
    "\n",
    "def write_otp(otp):\n",
    "    otp_file = open(\"C://Users//Device//Desktop//Learning//projects//python_projects//OTP GEN//otp.txt\", \"w\")\n",
    "    otp_file.write(str(otp))\n",
    "    print(\"otp sent successfully\")\n",
    "    otp_file.close()\n",
    "\n",
    "def read_otp():\n",
    "    otp_file1 = open(\"C://Users//Device//Desktop//Learning//projects//python_projects//OTP GEN//otp.txt\", \"r\")\n",
    "    otp_file1.read()\n",
    "    \n",
    "def app():\n",
    "    print(\"***** LOGIN PAGE *****\")\n",
    "    user = input(\"Enter your Username\")\n",
    "    otp_sent = otp_generation()\n",
    "    write_otp(otp_sent)\n",
    "    \n",
    "\n",
    "    n = 3\n",
    "    \n",
    "    for i in range(1,n+1):\n",
    "        user_otp = int(input(\"Enter the otp you received\"))\n",
    "        \n",
    "        if user_otp == otp_sent:\n",
    "          print(\"LogIn Successfull\", user) \n",
    "        else:\n",
    "         print(\"Login Failed !!!\")\n",
    "         n-=1\n",
    "         if n == 0:\n",
    "             print(\"You Entered Wrong OTP Every Time Please Try Again After Some Time \")\n",
    "         else:\n",
    "             print(\"You have\", n,\" More Attempts Plese try Again\")\n",
    "         \n",
    "app()\n",
    "        \n",
    "    "
   ]
  },
  {
   "cell_type": "code",
   "execution_count": null,
   "metadata": {},
   "outputs": [],
   "source": []
  }
 ],
 "metadata": {
  "kernelspec": {
   "display_name": "Python 3 (ipykernel)",
   "language": "python",
   "name": "python3"
  },
  "language_info": {
   "codemirror_mode": {
    "name": "ipython",
    "version": 3
   },
   "file_extension": ".py",
   "mimetype": "text/x-python",
   "name": "python",
   "nbconvert_exporter": "python",
   "pygments_lexer": "ipython3",
   "version": "3.11.6"
  }
 },
 "nbformat": 4,
 "nbformat_minor": 4
}
