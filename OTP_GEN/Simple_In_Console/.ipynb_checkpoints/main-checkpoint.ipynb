{
 "cells": [
  {
   "cell_type": "code",
   "execution_count": 1,
   "metadata": {},
   "outputs": [],
   "source": [
    "def generate_otp():\n",
    "    import random as r\n",
    "    otp =r.randint(1000,9999)\n",
    "    return otp\n",
    "\n",
    "def write_otp():\n",
    "    otp_file = open(\"C://Users//Somya_Mhs//Desktop//Learning//projects//python_projects//OTP GEN//otp.txt\",\"w\")\n",
    "    otp_file.wrtie(otp)\n",
    "    print(\"otp sent successfully\")\n",
    "    otp_file.close()\n",
    "    \n",
    "def read_otp():\n",
    "    otp_file1 = open(\"C://Users//Somya_Mhs//Desktop//Learning//projects//python_projects//OTP GEN//otp.txt\",\"r\")\n",
    "    return otp_file1.read()\n",
    "\n",
    "def app():\n",
    "    print(\"***** Login Page *****\")\n",
    "    username = input(\"Enter your username:\")\n",
    "    otp_sent = generate_otp()\n",
    "    write_otp = write_otp()\n",
    "    otp = int(input(\"Enter the otp you have received\"))\n",
    "    \n",
    "    if otp_sent == otp:\n",
    "        print(\"Login Successfull\")\n",
    "    else :\n",
    "        print(\"Invalid otp try again\")\n",
    "    \n",
    "def test():\n",
    "    app()"
   ]
  },
  {
   "cell_type": "code",
   "execution_count": null,
   "metadata": {},
   "outputs": [],
   "source": []
  }
 ],
 "metadata": {
  "kernelspec": {
   "display_name": "Python 3",
   "language": "python",
   "name": "python3"
  },
  "language_info": {
   "codemirror_mode": {
    "name": "ipython",
    "version": 3
   },
   "file_extension": ".py",
   "mimetype": "text/x-python",
   "name": "python",
   "nbconvert_exporter": "python",
   "pygments_lexer": "ipython3",
   "version": "3.11.6"
  }
 },
 "nbformat": 4,
 "nbformat_minor": 2
}
